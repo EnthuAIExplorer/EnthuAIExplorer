{
 "cells": [
  {
   "cell_type": "code",
   "execution_count": 1,
   "metadata": {},
   "outputs": [],
   "source": [
    "from sklearn import metrics\n",
    "import numpy as np\n",
    "import statistics "
   ]
  },
  {
   "cell_type": "code",
   "execution_count": 2,
   "metadata": {},
   "outputs": [
    {
     "name": "stdout",
     "output_type": "stream",
     "text": [
      "Explained_variance_score: -1.4\n",
      "r2_score: -2.2\n",
      "Accuracy_score: 0.0\n"
     ]
    }
   ],
   "source": [
    "y_true = [0,1,2,3]\n",
    "y_pred = [-2,3,4,5]\n",
    "\n",
    "explained_variance_score = metrics.explained_variance_score(y_true,y_pred)\n",
    "print(\"Explained_variance_score:\", explained_variance_score)\n",
    "\n",
    "r2_score = metrics.r2_score(y_true,y_pred)\n",
    "print(\"r2_score:\", r2_score)\n",
    "\n",
    "accuracy_score = metrics.accuracy_score(y_true,y_pred)\n",
    "print(\"Accuracy_score:\", accuracy_score)"
   ]
  },
  {
   "cell_type": "markdown",
   "metadata": {},
   "source": [
    "# Explained Variance Score"
   ]
  },
  {
   "cell_type": "code",
   "execution_count": 5,
   "metadata": {},
   "outputs": [
    {
     "name": "stdout",
     "output_type": "stream",
     "text": [
      "[2, -2, -2, -2]\n",
      "-1.0\n",
      "[3.0, -1.0, -1.0, -1.0]\n",
      "3.0\n",
      "1.7320508075688772\n",
      "1.25\n",
      "1.118033988749895\n",
      "2.4\n",
      "-1.4\n",
      "-2.2\n",
      "1.5\n"
     ]
    }
   ],
   "source": [
    "y_true = [0,1,2,3]\n",
    "y_pred = [-2,3,4,5]\n",
    "\n",
    "actual_prediction_differenceList = [] # y_true - y_pred\n",
    "zip_object = zip(y_true, y_pred)\n",
    "for list1_i, list2_i in zip_object:\n",
    "    actual_prediction_differenceList.append(list1_i-list2_i)\n",
    "    \n",
    "\n",
    "actual_diffmean_List = [] # y_true - y_pred\n",
    "differencelist_mean = np.mean(actual_prediction_differenceList)\n",
    "for list1_i in difference:\n",
    "    difference_list.append(list1_i-mean_val)\n",
    "\n",
    "\n",
    "print(difference)\n",
    "print(mean_val)\n",
    "print(difference_list)\n",
    "print(np.var(difference))\n",
    "print(np.std(difference))\n",
    "print(np.var(y_true))\n",
    "print(np.std(y_true))\n",
    "print(np.var(difference)/np.var(y_true))\n",
    "print(1 - (np.var(difference)/np.var(y_true)))\n",
    "print(1 - (16/5))\n",
    "print(np.mean(y_true))"
   ]
  },
  {
   "cell_type": "markdown",
   "metadata": {},
   "source": [
    "# R2 Score"
   ]
  },
  {
   "cell_type": "code",
   "execution_count": 36,
   "metadata": {},
   "outputs": [
    {
     "name": "stdout",
     "output_type": "stream",
     "text": [
      "Actual Values List: [0, 1, 2, 3]\n",
      "Prediction List: [-2, 3, 4, 5]\n",
      "Difference of Actual List and Prediction List: [2, -2, -2, -2]\n",
      "\n",
      "\n",
      "Actual List: [0, 1, 2, 3]\n",
      "Actual Mean value : 1.5\n",
      "Difference of Actual List and Actual Mean value: [-1.5, -0.5, 0.5, 1.5]\n",
      "\n",
      "\n",
      "Numerator_list: [4, 4, 4, 4]\n",
      "Sum of squares of (Actual and Prediction Difference List): 16\n",
      "\n",
      "\n",
      "Denominator_list: [2.25, 0.25, 0.25, 2.25]\n",
      "Sum of squares of (Actual and Actual Mean Difference List): 5.0\n",
      "\n",
      "\n",
      "R2_score value: -2.2\n",
      "r2_score: -2.2\n"
     ]
    }
   ],
   "source": [
    "actual_prediction_differenceList = [] # y_true - y_pred (yi-y^)\n",
    "zip_object = zip(y_true, y_pred)\n",
    "for list1_i, list2_i in zip_object:\n",
    "    actual_prediction_differenceList.append(list1_i-list2_i)\n",
    "    \n",
    "\n",
    "actual_actualmean_differenceList = [] # y_true - y_pred\n",
    "mean_val = np.mean(y_true)\n",
    "for list1_i in y_true:\n",
    "    actual_actualmean_differenceList.append(list1_i-mean_val)\n",
    "\n",
    "print(\"Actual Values List:\", y_true)\n",
    "print(\"Prediction List:\", y_pred)\n",
    "print(\"Difference of Actual List and Prediction List:\", actual_prediction_differenceList)\n",
    "print(\"\\n\")\n",
    "print(\"Actual List:\", y_true)\n",
    "print(\"Actual Mean value :\", mean_val)\n",
    "print(\"Difference of Actual List and Actual Mean value:\", actual_actualmean_differenceList)\n",
    "print(\"\\n\")\n",
    "numerator_list = []\n",
    "numerator_list = list(map(lambda x: x*x, actual_prediction_differenceList))\n",
    "print(\"Numerator_list:\", numerator_list)\n",
    "numerator_sum = sum(numerator_list)\n",
    "print(\"Sum of squares of (Actual and Prediction Difference List):\",numerator_sum)\n",
    "print(\"\\n\")\n",
    "denominator_list = []\n",
    "denominator_list = list(map(lambda x: x*x, actual_actualmean_differenceList))\n",
    "print(\"Denominator_list:\", denominator_list)\n",
    "denominator_sum = sum(denominator_list)\n",
    "print(\"Sum of squares of (Actual and Actual Mean Difference List):\", denominator_sum)\n",
    "print(\"\\n\")\n",
    "R2_score = 1 - (numerator_sum/denominator_sum)\n",
    "print(\"R2_score value:\",R2_score)\n",
    "\n",
    "#Simple way: \n",
    "    \n",
    "r2_score = metrics.r2_score(y_true,y_pred)\n",
    "print(\"r2_score:\", r2_score)"
   ]
  },
  {
   "cell_type": "code",
   "execution_count": null,
   "metadata": {},
   "outputs": [],
   "source": []
  }
 ],
 "metadata": {
  "kernelspec": {
   "display_name": "Python 3",
   "language": "python",
   "name": "python3"
  },
  "language_info": {
   "codemirror_mode": {
    "name": "ipython",
    "version": 3
   },
   "file_extension": ".py",
   "mimetype": "text/x-python",
   "name": "python",
   "nbconvert_exporter": "python",
   "pygments_lexer": "ipython3",
   "version": "3.8.3"
  }
 },
 "nbformat": 4,
 "nbformat_minor": 4
}
